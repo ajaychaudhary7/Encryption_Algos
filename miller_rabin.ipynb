{
  "nbformat": 4,
  "nbformat_minor": 0,
  "metadata": {
    "colab": {
      "name": "miller-rabin.ipynb",
      "provenance": [],
      "authorship_tag": "ABX9TyP29iwTZxcNp5BX35b8UPlz",
      "include_colab_link": true
    },
    "kernelspec": {
      "name": "python3",
      "display_name": "Python 3"
    }
  },
  "cells": [
    {
      "cell_type": "markdown",
      "metadata": {
        "id": "view-in-github",
        "colab_type": "text"
      },
      "source": [
        "<a href=\"https://colab.research.google.com/github/ajaychaudhary7/Encryption_Algos/blob/main/miller_rabin.ipynb\" target=\"_parent\"><img src=\"https://colab.research.google.com/assets/colab-badge.svg\" alt=\"Open In Colab\"/></a>"
      ]
    },
    {
      "cell_type": "code",
      "metadata": {
        "id": "szN8aHcpcQZY",
        "outputId": "46bc9cfb-749f-4ffe-b666-d9830fc5005e",
        "colab": {
          "base_uri": "https://localhost:8080/",
          "height": 302
        }
      },
      "source": [
        "import random\n",
        "\n",
        "class primality_check():\n",
        "  def __init__(self,n,s,choice):\n",
        "    self.n = n\n",
        "    self.s = s\n",
        "    self.choice = choice\n",
        "  \n",
        "  def mill_rab(self,d):\n",
        "    if self.choice == 1:\n",
        "      a = int(input('enter a possible witness for the test \\n'))\n",
        "    else:\n",
        "      a = random.randint(2,self.n-2)\n",
        "    x = (a**d) % self.n #power_mod(a,d,n)\n",
        "    if x==1 or x == n-1:\n",
        "      return True\n",
        "    while d != self.n-1:\n",
        "      x = (x*x) % self.n\n",
        "      d = d*2\n",
        "      if x == self.n-1:\n",
        "        return True\n",
        "      if x == 1:\n",
        "        return False\n",
        "    return False\n",
        "  \n",
        "  def check(self):\n",
        "    if self.n<=1 or self.n == 4:\n",
        "      return False\n",
        "    if self.n<=3:\n",
        "      return True\n",
        "    d = self.n-1\n",
        "\n",
        "    while d%2==0:\n",
        "      d = d//2\n",
        "    \n",
        "    for i in range(self.s):\n",
        "      if (self.mill_rab(d)==False):\n",
        "        return False\n",
        "    return True\n",
        "\n",
        "n = int(input('Enter a number to check for primality \\n'))\n",
        "\n",
        "print('''(1) specify a possible witness to test using the Witness procedure \n",
        "(2) specify a number s of random witnesses for the Miller–Rabin test to check. ''')\n",
        "choice = int(input('Enter a choice as given above \\n'))\n",
        "if choice == 2:\n",
        "  s = int(input('Enter number of witnesses you want to define \\n'))\n",
        "elif choice == 1:\n",
        "  s = 5 #random.randint(2,n)\n",
        "else:\n",
        "  print('Please enter a valid choice')\n",
        "\n",
        "ob = primality_check(n,s,choice)\n",
        "\n",
        "if ob.check():\n",
        "  print('{} is a prime number'.format(n))\n",
        "else:\n",
        "  print('Number ',n,' is not prime')\n"
      ],
      "execution_count": 22,
      "outputs": [
        {
          "output_type": "stream",
          "text": [
            "Enter a number to check for primality \n",
            "73\n",
            "(1) specify a possible witness to test using the Witness procedure \n",
            "(2) specify a number s of random witnesses for the Miller–Rabin test to check. \n",
            "Enter a choice as given above \n",
            "1\n",
            "enter a possible witness for the test \n",
            "5\n",
            "enter a possible witness for the test \n",
            "3\n",
            "enter a possible witness for the test \n",
            "7\n",
            "enter a possible witness for the test \n",
            "9\n",
            "enter a possible witness for the test \n",
            "11\n",
            "73 is a prime number\n"
          ],
          "name": "stdout"
        }
      ]
    },
    {
      "cell_type": "code",
      "metadata": {
        "id": "MSUI39Chj226"
      },
      "source": [
        ""
      ],
      "execution_count": null,
      "outputs": []
    }
  ]
}