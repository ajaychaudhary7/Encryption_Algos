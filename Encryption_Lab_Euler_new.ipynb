{
  "nbformat": 4,
  "nbformat_minor": 0,
  "metadata": {
    "colab": {
      "name": "Encryption_Lab_Euler.ipynb",
      "provenance": [],
      "authorship_tag": "ABX9TyOaF4RxKRaUGXxqbZMp6zyR",
      "include_colab_link": true
    },
    "kernelspec": {
      "name": "python3",
      "display_name": "Python 3"
    }
  },
  "cells": [
    {
      "cell_type": "markdown",
      "metadata": {
        "id": "view-in-github",
        "colab_type": "text"
      },
      "source": [
        "<a href=\"https://colab.research.google.com/github/ajaychaudhary7/Encryption_Algos/blob/main/Encryption_Lab_Euler_new.ipynb\" target=\"_parent\"><img src=\"https://colab.research.google.com/assets/colab-badge.svg\" alt=\"Open In Colab\"/></a>"
      ]
    },
    {
      "cell_type": "markdown",
      "metadata": {
        "id": "S2f-iP3EW-9C"
      },
      "source": [
        "# Totient Function"
      ]
    },
    {
      "cell_type": "code",
      "metadata": {
        "id": "PruzazVtVRH6",
        "outputId": "648d68ff-52ac-413e-94da-f5817c0dccce",
        "colab": {
          "base_uri": "https://localhost:8080/",
          "height": 50
        }
      },
      "source": [
        "def phi(n):\n",
        "    result = n  \n",
        "    p = 2\n",
        "    while p*p<= n:\n",
        "        if n % p == 0 :\n",
        "            while n % p == 0 :\n",
        "                n = n // p\n",
        "            result = result * (1.0 - (1.0 / float(p)))\n",
        "        p = p + 1\n",
        "\n",
        "    if n > 1 :\n",
        "        result = result * (1.0 - (1.0 / float(n)))  \n",
        "    return int(result)\n",
        "\n",
        "print(phi(int(input())))"
      ],
      "execution_count": null,
      "outputs": [
        {
          "output_type": "stream",
          "text": [
            "6\n",
            "2\n"
          ],
          "name": "stdout"
        }
      ]
    },
    {
      "cell_type": "markdown",
      "metadata": {
        "id": "h0XpqrhBX2LZ"
      },
      "source": [
        "# ERT"
      ]
    },
    {
      "cell_type": "code",
      "metadata": {
        "id": "Eb0JWWojV6jg",
        "outputId": "5d0ea471-c18b-45e3-c098-922bddb3072c",
        "colab": {
          "base_uri": "https://localhost:8080/",
          "height": 50
        }
      },
      "source": [
        "x,p,y = map(int,input(\"Enter three number's in the form of X^p/y \\t\").split())\n",
        "\n",
        "if p == phi(y):\n",
        "  print(1)\n",
        "else:\n",
        "  t = phi(y)\n",
        "  rem = p%t\n",
        "  print((x**rem)%y)"
      ],
      "execution_count": null,
      "outputs": [
        {
          "output_type": "stream",
          "text": [
            "Enter three number's in the form of X^p/y \t3 50 90\n",
            "9\n"
          ],
          "name": "stdout"
        }
      ]
    },
    {
      "cell_type": "markdown",
      "metadata": {
        "id": "VO6nWa8Mf-QX"
      },
      "source": [
        "#Fermit's Theorem"
      ]
    },
    {
      "cell_type": "code",
      "metadata": {
        "id": "2cASu3IkdwfG",
        "outputId": "48140cd7-8d8d-4564-fc8e-ccf57c94a301",
        "colab": {
          "base_uri": "https://localhost:8080/",
          "height": 50
        }
      },
      "source": [
        "x,p,y = map(int,input(\"Enter three number's in the form of X^p/y \\t\").split())\n",
        "\n",
        "if x%p != 0:\n",
        "  temp = p%(y-1)\n",
        "  print((x**temp)%y)"
      ],
      "execution_count": null,
      "outputs": [
        {
          "output_type": "stream",
          "text": [
            "Enter three number's in the form of X^p/y \t4 532 11\n",
            "5\n"
          ],
          "name": "stdout"
        }
      ]
    },
    {
      "cell_type": "code",
      "metadata": {
        "id": "iUT2D4sPgp5H"
      },
      "source": [
        ""
      ],
      "execution_count": null,
      "outputs": []
    }
  ]
}